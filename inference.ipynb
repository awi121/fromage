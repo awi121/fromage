{
 "cells": [
  {
   "cell_type": "code",
   "execution_count": 1,
   "id": "475add8f",
   "metadata": {},
   "outputs": [
    {
     "name": "stderr",
     "output_type": "stream",
     "text": [
      "/home/ubuntu/anaconda3/envs/lavis/lib/python3.8/site-packages/tqdm/auto.py:21: TqdmWarning: IProgress not found. Please update jupyter and ipywidgets. See https://ipywidgets.readthedocs.io/en/stable/user_install.html\n",
      "  from .autonotebook import tqdm as notebook_tqdm\n"
     ]
    }
   ],
   "source": [
    "import numpy as np\n",
    "import copy\n",
    "import torch\n",
    "from transformers import logging\n",
    "logging.set_verbosity_error()\n",
    "\n",
    "from PIL import Image\n",
    "import matplotlib.pyplot as plt\n",
    "\n",
    "from fromage import models\n",
    "from fromage import utils"
   ]
  },
  {
   "cell_type": "code",
   "execution_count": 2,
   "id": "4646a124",
   "metadata": {
    "scrolled": true
   },
   "outputs": [
    {
     "name": "stdout",
     "output_type": "stream",
     "text": [
      "Using HuggingFace AutoFeatureExtractor for openai/clip-vit-large-patch14.\n",
      "Using facebook/opt-1.3b for the language model.\n",
      "Using openai/clip-vit-large-patch14 for the visual model with 4 visual tokens.\n"
     ]
    },
    {
     "name": "stderr",
     "output_type": "stream",
     "text": [
      "/home/ubuntu/anaconda3/envs/lavis/lib/python3.8/site-packages/transformers/models/clip/feature_extraction_clip.py:28: FutureWarning: The class CLIPFeatureExtractor is deprecated and will be removed in version 5 of Transformers. Please use CLIPImageProcessor instead.\n",
      "  warnings.warn(\n"
     ]
    },
    {
     "name": "stdout",
     "output_type": "stream",
     "text": [
      "Freezing the LM.\n"
     ]
    },
    {
     "name": "stderr",
     "output_type": "stream",
     "text": [
      "/home/ubuntu/anaconda3/envs/lavis/lib/python3.8/site-packages/torch/nn/modules/lazy.py:180: UserWarning: Lazy modules are a new feature under heavy development so changes to the API or functionality can happen at any moment.\n",
      "  warnings.warn('Lazy modules are a new feature under heavy development '\n"
     ]
    }
   ],
   "source": [
    "# Load model used in the paper.\n",
    "model_dir = '/home/ubuntu/Project/Project_final/11-777-Project/fromage/runs/frozen_10'\n",
    "model = models.load_fromage(model_dir,type1='ss')"
   ]
  },
  {
   "cell_type": "code",
   "execution_count": 3,
   "metadata": {},
   "outputs": [],
   "source": [
    "import json\n",
    "import random\n",
    "import os\n",
    "dataset1 = json.load(open(\"/home/ubuntu/Project/11-777-Project-aa/Data/text_image_queries_final_1.json\", \"r\"))\n",
    "dataset2 = json.load(open(\"/home/ubuntu/Project/11-777-Project-aa/Data/text_image_queries_final_2.json\", \"r\"))\n",
    "dataset3 = json.load(open(\"/home/ubuntu/Project/11-777-Project-aa/Data/text_image_queries_final_with_subanswers.json\", \"r\"))"
   ]
  },
  {
   "cell_type": "code",
   "execution_count": 4,
   "metadata": {},
   "outputs": [
    {
     "data": {
      "text/plain": [
       "(38, 38, 38)"
      ]
     },
     "execution_count": 4,
     "metadata": {},
     "output_type": "execute_result"
    }
   ],
   "source": [
    "len(dataset1), len(dataset2), len(dataset3)"
   ]
  },
  {
   "cell_type": "code",
   "execution_count": 5,
   "metadata": {},
   "outputs": [],
   "source": [
    "def generate_answer(q1,q2,c1,c2,Q):\n",
    "    prompt1= c1+c2+ 'Q: '+  q1+ '\\nA:'\n",
    "    A1=model.generate_for_images_and_texts([prompt1], num_words=40)\n",
    "    prompt2= c1+c2+ 'Q: '+  q2+ '\\nA:'\n",
    "    A2=model.generate_for_images_and_texts([prompt2], num_words=40)\n",
    "    prompt3= 'Q: '+  q1+ ' \\nA: ' +A1[0] + '\\nQ: '+  q2+ ' \\nA: ' +A2[0] + '\\nQ: '+  Q+ ' \\nA:'\n",
    "    A_final=model.generate_for_images_and_texts([prompt3], num_words=40)\n",
    "    return A_final[0]"
   ]
  },
  {
   "cell_type": "code",
   "execution_count": 6,
   "metadata": {},
   "outputs": [],
   "source": [
    "import pickle\n",
    "import os\n",
    "def generate_answer_img(q1,q2,c1,c2,Q):\n",
    "    if c2==None:\n",
    "        gold_feature = []\n",
    "        imgid_map=pickle.load(open('/home/ubuntu/Project/11-777-Project-aa/Data/image_id_map_0328.pkl', \"rb\"))\n",
    "        image_id1 = imgid_map[c1]\n",
    "        image_id2 = imgid_map[c1]\n",
    "        if os.path.exists(os.path.join(\"/home/ubuntu/Project/11-777-Project-aa/Data/\", \"{}/{}/{}.pkl\".format('dev', (image_id1%10000000)//1000, image_id1))):\n",
    "            image_feature_path1='/home/ubuntu/Project/11-777-Project-aa/Data/dev/{}/{}.pkl'.format((image_id1%10000000)//1000, image_id1)\n",
    "        if os.path.exists(os.path.join(\"/home/ubuntu/Project/11-777-Project-aa/Data/\", \"{}/{}/{}.pkl\".format('train', (image_id1%10000000)//1000, image_id1))):\n",
    "            image_feature_path1='/home/ubuntu/Project/11-777-Project-aa/Data/dev/{}/{}.pkl'.format((image_id1%10000000)//1000, image_id1)\n",
    "        if os.path.exists(os.path.join(\"/home/ubuntu/Project/11-777-Project-aa/Data/\", \"{}/{}/{}.pkl\".format('test', (image_id1%10000000)//1000, image_id1))):\n",
    "            image_feature_path1='/home/ubuntu/Project/11-777-Project-aa/Data/dev/{}/{}.pkl'.format((image_id1%10000000)//1000, image_id1)\n",
    "        if os.path.exists(os.path.join(\"/home/ubuntu/Project/11-777-Project-aa/Data/\", \"{}/{}/{}.pkl\".format('dev', (image_id2%10000000)//1000, image_id2))):\n",
    "            image_feature_path2='/home/ubuntu/Project/11-777-Project-aa/Data/dev/{}/{}.pkl'.format((image_id2%10000000)//1000, image_id2)\n",
    "        if os.path.exists(os.path.join(\"/home/ubuntu/Project/11-777-Project-aa/Data/\", \"{}/{}/{}.pkl\".format('train', (image_id2%10000000)//1000, image_id2))):\n",
    "            image_feature_path2='/home/ubuntu/Project/11-777-Project-aa/Data/dev/{}/{}.pkl'.format((image_id2%10000000)//1000, image_id2)\n",
    "        if os.path.exists(os.path.join(\"/home/ubuntu/Project/11-777-Project-aa/Data/\", \"{}/{}/{}.pkl\".format('test', (image_id2%10000000)//1000, image_id2))):\n",
    "            image_feature_path2='/home/ubuntu/Project/11-777-Project-aa/Data/dev/{}/{}.pkl'.format((image_id2%10000000)//1000, image_id2)\n",
    "        gold_feature.append(image_feature_path1)\n",
    "        gold_feature.append(image_feature_path2)\n",
    "        c=[gold_feature]\n",
    "        prompt1= 'Q: '+  q1+ '\\nA:'\n",
    "        A1=model.generate_for_images_and_texts([c,prompt1], num_words=40)\n",
    "        # prompt2= 'Q: '+  q2+ '\\nA:'\n",
    "        # A2=model.generate_for_images_and_texts([c,prompt2], num_words=40)\n",
    "        # prompt3= 'Q: '+  q1+ ' \\nA: ' +A1[0] + '\\nQ: '+  q2+ ' \\nA: ' +A2[0] + '\\nQ: '+  Q+ ' \\nA:'\n",
    "        # A_final=model.generate_for_images_and_texts([prompt3], num_words=40)\n",
    "        A_final=A1\n",
    "    else:\n",
    "        gold_feature = []\n",
    "        imgid_map=pickle.load(open('/home/ubuntu/Project/11-777-Project-aa/Data/image_id_map_0328.pkl', \"rb\"))\n",
    "        image_id1 = imgid_map[c1]\n",
    "        image_id2 = imgid_map[c2]\n",
    "        if os.path.exists(os.path.join(\"/home/ubuntu/Project/11-777-Project-aa/Data/\", \"{}/{}/{}.pkl\".format('dev', (image_id1%10000000)//1000, image_id1))):\n",
    "            image_feature_path1='/home/ubuntu/Project/11-777-Project-aa/Data/dev/{}/{}.pkl'.format((image_id1%10000000)//1000, image_id1)\n",
    "        if os.path.exists(os.path.join(\"/home/ubuntu/Project/11-777-Project-aa/Data/\", \"{}/{}/{}.pkl\".format('train', (image_id1%10000000)//1000, image_id1))):\n",
    "            image_feature_path1='/home/ubuntu/Project/11-777-Project-aa/Data/dev/{}/{}.pkl'.format((image_id1%10000000)//1000, image_id1)\n",
    "        if os.path.exists(os.path.join(\"/home/ubuntu/Project/11-777-Project-aa/Data/\", \"{}/{}/{}.pkl\".format('test', (image_id1%10000000)//1000, image_id1))):\n",
    "            image_feature_path1='/home/ubuntu/Project/11-777-Project-aa/Data/dev/{}/{}.pkl'.format((image_id1%10000000)//1000, image_id1)\n",
    "        if os.path.exists(os.path.join(\"/home/ubuntu/Project/11-777-Project-aa/Data/\", \"{}/{}/{}.pkl\".format('dev', (image_id2%10000000)//1000, image_id2))):\n",
    "            image_feature_path2='/home/ubuntu/Project/11-777-Project-aa/Data/dev/{}/{}.pkl'.format((image_id2%10000000)//1000, image_id2)\n",
    "        if os.path.exists(os.path.join(\"/home/ubuntu/Project/11-777-Project-aa/Data/\", \"{}/{}/{}.pkl\".format('train', (image_id2%10000000)//1000, image_id2))):\n",
    "            image_feature_path2='/home/ubuntu/Project/11-777-Project-aa/Data/dev/{}/{}.pkl'.format((image_id2%10000000)//1000, image_id2)\n",
    "        if os.path.exists(os.path.join(\"/home/ubuntu/Project/11-777-Project-aa/Data/\", \"{}/{}/{}.pkl\".format('test', (image_id2%10000000)//1000, image_id2))):\n",
    "            image_feature_path2='/home/ubuntu/Project/11-777-Project-aa/Data/dev/{}/{}.pkl'.format((image_id2%10000000)//1000, image_id2)\n",
    "        gold_feature.append(image_feature_path1)\n",
    "        gold_feature.append(image_feature_path2)\n",
    "        c=[gold_feature]\n",
    "        prompt1= 'Q: '+  q1+ '\\nA:'\n",
    "        A1=model.generate_for_images_and_texts([c,prompt1], num_words=40)\n",
    "        prompt2= 'Q: '+  q2+ '\\nA:'\n",
    "        A2=model.generate_for_images_and_texts([c,prompt2], num_words=40)\n",
    "        prompt3= 'Q: '+  q1+ ' \\nA: ' +A1[0] + '\\nQ: '+  q2+ ' \\nA: ' +A2[0] + '\\nQ: '+  Q+ ' \\nA:'\n",
    "        A_final=model.generate_for_images_and_texts([prompt3], num_words=40)\n",
    "    return A_final[0]"
   ]
  },
  {
   "cell_type": "code",
   "execution_count": 7,
   "metadata": {},
   "outputs": [],
   "source": [
    "Answers_real_im1 = []\n",
    "Answers_pred_im1 = []\n",
    "for i in dataset1:\n",
    "    datum = dataset1[i]\n",
    "    if len(datum['txt_posFacts']) == 0:\n",
    "        q1= dataset1[i]['Q']\n",
    "        q2= dataset2[i]['Q']\n",
    "        if(len(dataset1[i]['img_posFacts'])==1):\n",
    "            c1= dataset1[i]['img_posFacts'][0]['image_id']\n",
    "            c2= dataset1[i]['img_posFacts'][0]['image_id']\n",
    "        else:\n",
    "            continue\n",
    "        Q= dataset3[i]['Q']\n",
    "        A= dataset3[i]['A'][0]\n",
    "        Answers_real_im1.append(A)\n",
    "        Answers_pred_im1.append(generate_answer_img(q1,q2,c1,c2,Q))"
   ]
  },
  {
   "cell_type": "code",
   "execution_count": 8,
   "metadata": {},
   "outputs": [
    {
     "data": {
      "text/plain": [
       "(11, 11)"
      ]
     },
     "execution_count": 8,
     "metadata": {},
     "output_type": "execute_result"
    }
   ],
   "source": [
    "len(Answers_real_im1), len(Answers_pred_im1)"
   ]
  },
  {
   "cell_type": "code",
   "execution_count": 9,
   "metadata": {},
   "outputs": [],
   "source": [
    "Answers_real_im = []\n",
    "Answers_pred_im = []\n",
    "for i in dataset1:\n",
    "    datum = dataset1[i]\n",
    "    if len(datum['txt_posFacts']) == 0:\n",
    "        q1= dataset1[i]['Q']\n",
    "        q2= dataset2[i]['Q']\n",
    "        if(len(dataset1[i]['img_posFacts'])<2):\n",
    "            continue\n",
    "        c1= dataset1[i]['img_posFacts'][0]['image_id']\n",
    "        c2= dataset1[i]['img_posFacts'][1]['image_id']\n",
    "        Q= dataset3[i]['Q']\n",
    "        A= dataset3[i]['A'][0]\n",
    "        Answers_real_im.append(A)\n",
    "        Answers_pred_im.append(generate_answer_img(q1,q2,c1,c2,Q))"
   ]
  },
  {
   "cell_type": "code",
   "execution_count": 10,
   "metadata": {},
   "outputs": [
    {
     "data": {
      "text/plain": [
       "(14, 14)"
      ]
     },
     "execution_count": 10,
     "metadata": {},
     "output_type": "execute_result"
    }
   ],
   "source": [
    "len(Answers_real_im), len(Answers_pred_im)"
   ]
  },
  {
   "cell_type": "code",
   "execution_count": 11,
   "metadata": {},
   "outputs": [],
   "source": [
    "Answers_real = []\n",
    "Answers_pred = []\n",
    "for i in dataset1:\n",
    "    datum = dataset1[i]\n",
    "    if len(datum['txt_posFacts']) != 0:\n",
    "        q1= dataset1[i]['Q']\n",
    "        q2= dataset2[i]['Q']\n",
    "        c1= dataset1[i]['txt_posFacts'][0]['fact']\n",
    "        c2= dataset2[i]['txt_posFacts'][1]['fact']\n",
    "        Q= dataset3[i]['Q']\n",
    "        A= dataset3[i]['A'][0]\n",
    "        Answers_real.append(A)\n",
    "        Answers_pred.append(generate_answer(q1,q2,c1,c2,Q))\n"
   ]
  },
  {
   "cell_type": "code",
   "execution_count": 12,
   "metadata": {},
   "outputs": [
    {
     "data": {
      "text/plain": [
       "(13, 13)"
      ]
     },
     "execution_count": 12,
     "metadata": {},
     "output_type": "execute_result"
    }
   ],
   "source": [
    "len(Answers_real), len(Answers_pred)"
   ]
  },
  {
   "cell_type": "code",
   "execution_count": 6,
   "metadata": {},
   "outputs": [],
   "source": [
    "import pickle\n",
    "import os\n",
    "gold_feature = []\n",
    "imgid_map=pickle.load(open('/home/ubuntu/Project/11-777-Project-aa/Data/image_id_map_0328.pkl', \"rb\"))\n",
    "# image_id = imgid_map[image_id]\n",
    "# image_feature_path =os.path.join(\"/home/ubuntu/Project/11-777-Project-aa/Data/\", \"{}/{}/{}.pkl\".format('dev', (image_id%10000000)//1000, image_id))\n",
    "image_feature_path='/home/ubuntu/Project/11-777-Project-aa/Data/dev/41/40041882.pkl'\n",
    "gold_feature.append(image_feature_path)\n",
    "gold_feature.append(image_feature_path)\n"
   ]
  },
  {
   "cell_type": "code",
   "execution_count": 13,
   "metadata": {},
   "outputs": [],
   "source": [
    "A_r=Answers_real+Answers_real_im+Answers_real_im1"
   ]
  },
  {
   "cell_type": "code",
   "execution_count": 14,
   "metadata": {},
   "outputs": [],
   "source": [
    "A_p=Answers_pred+Answers_pred_im+Answers_pred_im1"
   ]
  },
  {
   "cell_type": "code",
   "execution_count": 17,
   "metadata": {},
   "outputs": [],
   "source": [
    "#save the answers in pkl\n",
    "with open('Answers_real.pkl', 'wb') as f:\n",
    "    pickle.dump(A_r, f)\n",
    "with open('Answers_pred_obj.pkl', 'wb') as f:\n",
    "    pickle.dump(A_p, f)"
   ]
  },
  {
   "cell_type": "code",
   "execution_count": 2,
   "metadata": {},
   "outputs": [],
   "source": [
    "# load the pickle files\n",
    "import pickle\n",
    "with open('Answers_pred_obj.pkl', 'rb') as f:\n",
    "    Answers = pickle.load(f)\n"
   ]
  },
  {
   "cell_type": "code",
   "execution_count": 4,
   "metadata": {},
   "outputs": [
    {
     "data": {
      "text/plain": [
       "['  \"Yes, there are steps at the entrance to the Hood Museum of Art and Budynek Biblioteki.',\n",
       " '  \"No, it\\'s not.',\n",
       " '  \"Blue\"I\\'m not sure if this is a joke or not.',\n",
       " '  \"No, the seats at Baku Olympic Stadium are not the same color as the seats in the stadium at Olympic Park in Munich.',\n",
       " '  \"No, they are both located on the ground floor of the building.',\n",
       " '  \"No, it is not.',\n",
       " '  The pedestals are the places where the statues are placed.',\n",
       " '  \"Yes, but the spiky leaves are more common.',\n",
       " '  \"A bear.',\n",
       " ' The Architecture Building is a building that is designed to be a home for the people who live in it.',\n",
       " '  \"No, they shoot with their left hands.',\n",
       " '  Yes.',\n",
       " '  \"They\\'re not headlights, they\\'re headlights.',\n",
       " '  \"Yes, the traditional dress of Sardinian women includes a skirt or pants.',\n",
       " ' Q: \"How many total light posts are at both ends in London?\"',\n",
       " '  The petals of the flower of the Camellia Japonica are arranged in a circle, with the petals of the flower of the Camellia Japonica in the center.',\n",
       " '  \"The hand holding the figure is the right hand.',\n",
       " \"  BlackI'm not sure if it's a good idea to ask this, but I'm not sure if it's a bad idea either.\",\n",
       " '  \"The Lunar Module is a spacecraft that was used to land on the Moon.',\n",
       " '  \"The Russian Bear.',\n",
       " '  \"Three columns in front of the Cathedral of Blessed Sacrament.',\n",
       " '  \"The Indian flag was on the left side of the door.',\n",
       " '  A circle.',\n",
       " '  \"Yes, but it is not as long as the hair on the human head.']"
      ]
     },
     "execution_count": 4,
     "metadata": {},
     "output_type": "execute_result"
    }
   ],
   "source": [
    "Answers[14:]"
   ]
  },
  {
   "cell_type": "code",
   "execution_count": 23,
   "id": "d20c3c02",
   "metadata": {
    "scrolled": false
   },
   "outputs": [],
   "source": [
    "\n",
    "for inp_text in ['The human history of Western Australia commenced between 40,000 and 60,000 years ago with the arrival of Indigenous Australians on the northwest coast. The first inhabitants expanded across the east and south of the continent. The North Shore is a region of Sydney, New South Wales, Australia, a subset of the Northern Sydney region. The region is customary, not legal or administrative, and generally refers to the suburbs located on the northern side of Sydney Harbour up to Waitara, which are between Middle Harbour and the Lane Cove River. Q: what is the name of the continent contains sydney harbour?\\nA:']:\n",
    "    prompt = [inp_text]\n",
    "    model_outputs = model.generate_for_images_and_texts(prompt, num_words=40)"
   ]
  },
  {
   "cell_type": "code",
   "execution_count": 24,
   "metadata": {},
   "outputs": [
    {
     "data": {
      "text/plain": [
       "[' Australia']"
      ]
     },
     "execution_count": 24,
     "metadata": {},
     "output_type": "execute_result"
    }
   ],
   "source": [
    "model_outputs "
   ]
  },
  {
   "cell_type": "code",
   "execution_count": null,
   "metadata": {},
   "outputs": [],
   "source": [
    "a_r_t=['Australia.',\n",
    " 'Think and Walking Away were released two years apart.',\n",
    " 'West Virginia',\n",
    " 'They are the same gender.',\n",
    " 'teeth',\n",
    " 'Genetics',\n",
    " 'Pulmonary fibrosis affects the lungs, while Myelofibrosis affects the bone marrow.',\n",
    " 'They are both an example of subfamily, under the larger name of Felidae.',\n",
    " 'The West Rail line and the Mass Transit Railway both use light rails.',\n",
    " 'The Palatine Hill',\n",
    " 'No.',\n",
    " 'No',\n",
    " 'Both nerves are part of limbs.']"
   ]
  },
  {
   "cell_type": "code",
   "execution_count": 13,
   "metadata": {},
   "outputs": [],
   "source": [
    "answer_pred_obj=Answers_pred_im+Answers_pred_im1+Answers_pred\n"
   ]
  },
  {
   "cell_type": "code",
   "execution_count": 14,
   "metadata": {},
   "outputs": [],
   "source": [
    "#save the answers as pkl\n",
    "import pickle\n",
    "with open('answer_pred_obj.pkl', 'wb') as f:\n",
    "    pickle.dump(answer_pred_obj, f)"
   ]
  },
  {
   "cell_type": "code",
   "execution_count": 15,
   "metadata": {},
   "outputs": [],
   "source": [
    "answer_real=Answers_real+Answers_real_im+Answers_real_im1"
   ]
  },
  {
   "cell_type": "code",
   "execution_count": 16,
   "metadata": {},
   "outputs": [],
   "source": [
    "import pickle\n",
    "with open('answer_real.pkl', 'wb') as f:\n",
    "    pickle.dump(answer_real, f)"
   ]
  },
  {
   "cell_type": "code",
   "execution_count": null,
   "metadata": {},
   "outputs": [],
   "source": [
    "5"
   ]
  }
 ],
 "metadata": {
  "kernelspec": {
   "display_name": "Python 3 (ipykernel)",
   "language": "python",
   "name": "python3"
  },
  "language_info": {
   "codemirror_mode": {
    "name": "ipython",
    "version": 3
   },
   "file_extension": ".py",
   "mimetype": "text/x-python",
   "name": "python",
   "nbconvert_exporter": "python",
   "pygments_lexer": "ipython3",
   "version": "3.8.13"
  }
 },
 "nbformat": 4,
 "nbformat_minor": 5
}
