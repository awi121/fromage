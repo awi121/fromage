{
 "cells": [
  {
   "cell_type": "markdown",
   "id": "820d3a68-10cf-4efc-af6c-077313a11f42",
   "metadata": {},
   "source": [
    "# "
   ]
  },
  {
   "cell_type": "code",
   "execution_count": 1,
   "id": "475add8f",
   "metadata": {},
   "outputs": [],
   "source": [
    "import numpy as np\n",
    "import copy\n",
    "import torch\n",
    "from transformers import logging\n",
    "logging.set_verbosity_error()\n",
    "\n",
    "from PIL import Image\n",
    "import matplotlib.pyplot as plt\n",
    "\n",
    "from fromage import models\n",
    "from fromage import utils"
   ]
  },
  {
   "cell_type": "code",
   "execution_count": 2,
   "id": "4646a124",
   "metadata": {
    "scrolled": true
   },
   "outputs": [
    {
     "name": "stdout",
     "output_type": "stream",
     "text": [
      "Using HuggingFace AutoFeatureExtractor for openai/clip-vit-large-patch14.\n",
      "Using facebook/opt-1.3b for the language model.\n",
      "Using openai/clip-vit-large-patch14 for the visual model with 4 visual tokens.\n"
     ]
    },
    {
     "name": "stderr",
     "output_type": "stream",
     "text": [
      "/home/ubuntu/anaconda3/envs/lavis/lib/python3.8/site-packages/transformers/models/clip/feature_extraction_clip.py:28: FutureWarning: The class CLIPFeatureExtractor is deprecated and will be removed in version 5 of Transformers. Please use CLIPImageProcessor instead.\n",
      "  warnings.warn(\n"
     ]
    },
    {
     "name": "stdout",
     "output_type": "stream",
     "text": [
      "Freezing the LM.\n"
     ]
    },
    {
     "name": "stderr",
     "output_type": "stream",
     "text": [
      "/home/ubuntu/anaconda3/envs/lavis/lib/python3.8/site-packages/torch/nn/modules/lazy.py:180: UserWarning: Lazy modules are a new feature under heavy development so changes to the API or functionality can happen at any moment.\n",
      "  warnings.warn('Lazy modules are a new feature under heavy development '\n"
     ]
    }
   ],
   "source": [
    "# Load model used in the paper.\n",
    "model_dir = '/home/ubuntu/Project/Project_final/11-777-Project/fromage/runs/frozen_15'\n",
    "model = models.load_fromage(model_dir,type1='ss')"
   ]
  },
  {
   "cell_type": "code",
   "execution_count": 3,
   "id": "b82dea03",
   "metadata": {},
   "outputs": [],
   "source": [
    "import json\n",
    "import random\n",
    "import os\n",
    "dataset1 = json.load(open(\"/home/ubuntu/Project/11-777-Project-aa/Data/text_image_queries_final_1.json\", \"r\"))\n",
    "dataset2 = json.load(open(\"/home/ubuntu/Project/11-777-Project-aa/Data/text_image_queries_final_2.json\", \"r\"))\n",
    "dataset3 = json.load(open(\"/home/ubuntu/Project/11-777-Project-aa/Data/text_image_queries_final.json\", \"r\"))"
   ]
  },
  {
   "cell_type": "code",
   "execution_count": 4,
   "id": "86365206",
   "metadata": {},
   "outputs": [
    {
     "data": {
      "text/plain": [
       "(38, 38, 38)"
      ]
     },
     "execution_count": 4,
     "metadata": {},
     "output_type": "execute_result"
    }
   ],
   "source": [
    "len(dataset1), len(dataset2), len(dataset3)"
   ]
  },
  {
   "cell_type": "code",
   "execution_count": 6,
   "id": "df19eb33",
   "metadata": {},
   "outputs": [],
   "source": [
    "def generate_answer(q1,q2,c1,c2,Q):\n",
    "    prompt1= c1+c2+ 'Q: '+  q1+ '\\nA:'\n",
    "    A1=model.generate_for_images_and_texts([prompt1], num_words=40)\n",
    "    # prompt2= c1+c2+ 'Q: '+  q2+ '\\nA:'\n",
    "    # A2=model.generate_for_images_and_texts([prompt2], num_words=40)\n",
    "    # prompt3= 'Q: '+  q1+ ' \\nA: ' +A1[0] + '\\nQ: '+  q2+ ' \\nA: ' +A2[0] + '\\nQ: '+  Q+ ' \\nA:'\n",
    "    # A_final=model.generate_for_images_and_texts([prompt3], num_words=40)\n",
    "    return A1[0]"
   ]
  },
  {
   "cell_type": "code",
   "execution_count": 7,
   "id": "c413f480",
   "metadata": {},
   "outputs": [],
   "source": [
    "import pickle\n",
    "import os\n",
    "def generate_answer_img(q1,q2,c1,c2,Q,qid):\n",
    "    if c2==None:\n",
    "        gold_feature = []\n",
    "        image_feature_path1='/home/ubuntu/Project/11-777-Project-aa/Data/univlr_features/'+str(qid)+'_0.pkl'\n",
    "        image_feature_path2='/home/ubuntu/Project/11-777-Project-aa/Data/univlr_features/'+str(qid)+'_0.pkl'\n",
    "        gold_feature.append(image_feature_path1)\n",
    "        gold_feature.append(image_feature_path2)\n",
    "        c=[gold_feature]\n",
    "        prompt1= 'Q: '+  q1+ '\\nA:'\n",
    "        A1=model.generate_for_images_and_texts([c,prompt1], num_words=40)\n",
    "        # prompt2= 'Q: '+  q2+ '\\nA:'\n",
    "        # A2=model.generate_for_images_and_texts([c,prompt2], num_words=40)\n",
    "        # prompt3= 'Q: '+  q1+ ' \\nA: ' +A1[0] + '\\nQ: '+  q2+ ' \\nA: ' +A2[0] + '\\nQ: '+  Q+ ' \\nA:'\n",
    "        # A_final=model.generate_for_images_and_texts([prompt3], num_words=40)\n",
    "        A_final=A1\n",
    "    else:\n",
    "        gold_feature = []\n",
    "        image_feature_path1='/home/ubuntu/Project/11-777-Project-aa/Data/univlr_features/'+str(qid)+'_0.pkl'\n",
    "        image_feature_path2='/home/ubuntu/Project/11-777-Project-aa/Data/univlr_features/'+str(qid)+'_1.pkl'\n",
    "        gold_feature.append(image_feature_path1)\n",
    "        gold_feature.append(image_feature_path2)\n",
    "        c=[gold_feature]\n",
    "        # prompt1= 'Q: '+  q1+ '\\nA:'\n",
    "        # A1=model.generate_for_images_and_texts([c,prompt1], num_words=40)\n",
    "        # prompt2= 'Q: '+  q2+ '\\nA:'\n",
    "        # A2=model.generate_for_images_and_texts([c,prompt2], num_words=40)\n",
    "        # prompt3= 'Q: '+  q1+ ' \\nA: ' +A1[0] + '\\nQ: '+  q2+ ' \\nA: ' +A2[0] + '\\nQ: '+  Q+ ' \\nA:'\n",
    "        # A_final=model.generate_for_images_and_texts([prompt3], num_words=40)\n",
    "        prompt1= 'Q: '+  q1+ '\\nA:'\n",
    "        A1=model.generate_for_images_and_texts([c,prompt1], num_words=40)\n",
    "    return A1[0]"
   ]
  },
  {
   "cell_type": "code",
   "execution_count": 8,
   "id": "47e05191",
   "metadata": {},
   "outputs": [],
   "source": [
    "Answers_real_im1 = []\n",
    "Answers_pred_im1 = []\n",
    "for i in dataset1:\n",
    "    datum = dataset3[i]\n",
    "    if len(datum['txt_posFacts']) == 0:\n",
    "        q1= dataset3[i]['Q']\n",
    "        q2= 'ss'\n",
    "        if(len(dataset1[i]['img_posFacts'])==1):\n",
    "            c1= dataset1[i]['img_posFacts'][0]['image_id']\n",
    "            c2= None\n",
    "        else:\n",
    "            continue\n",
    "        Q= dataset3[i]['Q']\n",
    "        A= dataset3[i]['A'][0]\n",
    "        Answers_real_im1.append(A)\n",
    "        Answers_pred_im1.append(generate_answer_img(q1,q2,c1,c2,Q,str(i)))"
   ]
  },
  {
   "cell_type": "code",
   "execution_count": 9,
   "id": "260799bb",
   "metadata": {},
   "outputs": [
    {
     "data": {
      "text/plain": [
       "(11, 11)"
      ]
     },
     "execution_count": 9,
     "metadata": {},
     "output_type": "execute_result"
    }
   ],
   "source": [
    "len(Answers_real_im1), len(Answers_pred_im1)"
   ]
  },
  {
   "cell_type": "code",
   "execution_count": 10,
   "id": "db7d8031-4d56-4500-8908-8bcd9ea8aa72",
   "metadata": {},
   "outputs": [
    {
     "data": {
      "text/plain": [
       "[' \"No.',\n",
       " ' \"There are two total light posts at both ends of Abbey Road crosswalk in London.',\n",
       " ' \"In a circle.',\n",
       " ' \"In the left hand of the figure holding something.',\n",
       " ' \"Red.',\n",
       " ' \"The Lunar Module is on top of the Lunar Module.',\n",
       " ' \"The USA\"The USA was represented by the mascot, \"The USA.',\n",
       " ' \"There are two columns in front of the Cathedral of Blessed Sacrament in New Zealand.',\n",
       " ' \"On the left side of the airplane\\'s door.',\n",
       " ' \"A circle.',\n",
       " ' \"Yes.']"
      ]
     },
     "execution_count": 10,
     "metadata": {},
     "output_type": "execute_result"
    }
   ],
   "source": [
    "Answers_pred_im1"
   ]
  },
  {
   "cell_type": "code",
   "execution_count": 11,
   "id": "4e0d661b",
   "metadata": {},
   "outputs": [],
   "source": [
    "Answers_real_im = []\n",
    "Answers_pred_im = []\n",
    "for i in dataset1:\n",
    "    datum = dataset1[i]\n",
    "    if len(datum['txt_posFacts']) == 0:\n",
    "        q1= dataset3[i]['Q']\n",
    "        q2= ''\n",
    "        if(len(dataset1[i]['img_posFacts'])<2):\n",
    "            continue\n",
    "        c1= dataset3[i]['img_posFacts'][0]['image_id']\n",
    "        c2= dataset3[i]['img_posFacts'][1]['image_id']\n",
    "        Q= dataset3[i]['Q']\n",
    "        A= dataset3[i]['A'][0]\n",
    "        Answers_real_im.append(A)\n",
    "        Answers_pred_im.append(generate_answer_img(q1,q2,c1,c2,Q,str(i)))"
   ]
  },
  {
   "cell_type": "code",
   "execution_count": 12,
   "id": "540a96c7",
   "metadata": {},
   "outputs": [
    {
     "data": {
      "text/plain": [
       "(14, 14)"
      ]
     },
     "execution_count": 12,
     "metadata": {},
     "output_type": "execute_result"
    }
   ],
   "source": [
    "len(Answers_real_im), len(Answers_pred_im)"
   ]
  },
  {
   "cell_type": "code",
   "execution_count": 13,
   "id": "8536b1df-3ac5-4e53-b216-02692a2cc003",
   "metadata": {},
   "outputs": [
    {
     "data": {
      "text/plain": [
       "[' \"Yes.',\n",
       " ' \"Yes, there are steps at the entrance to the Hood Museum of Art and Budynek Biblioteki.',\n",
       " ' \"No.',\n",
       " ' \"The stalks of the Speise Morchel and the Amanita phalloides share a yellow color.',\n",
       " ' \"No.',\n",
       " ' \"Yes.',\n",
       " ' \"No.',\n",
       " ' \"The horse-tamer of the Monte Cavallo and a church and landscape with classical ruins and figures.',\n",
       " ' \"Yes, both the Erica herbacea and the Lamium maculatum have spiky leaves.',\n",
       " ' \"A horse.',\n",
       " ' \"The Architecture Building in Toronto and the Danish Architecture Center share the same common features.',\n",
       " ' \"No.',\n",
       " ' \"No, the colors of the word lyric are the same in the Lyric Theater, Blacksburg and Lyric Theater, Georgia signs.',\n",
       " ' \"The headlights on both the 1952 Kaiser Manhattan and the Lotus XI LeMans are round.']"
      ]
     },
     "execution_count": 13,
     "metadata": {},
     "output_type": "execute_result"
    }
   ],
   "source": [
    "Answers_pred_im"
   ]
  },
  {
   "cell_type": "code",
   "execution_count": 14,
   "id": "fc17c563",
   "metadata": {},
   "outputs": [],
   "source": [
    "Answers_real = []\n",
    "Answers_pred = []\n",
    "for i in dataset1:\n",
    "    datum = dataset1[i]\n",
    "    if len(datum['txt_posFacts']) != 0:\n",
    "        q1= dataset3[i]['Q']\n",
    "        q2= ''\n",
    "        c1= dataset1[i]['txt_posFacts'][0]['fact']\n",
    "        c2= dataset2[i]['txt_posFacts'][1]['fact']\n",
    "        Q= dataset3[i]['Q']\n",
    "        A= dataset3[i]['A'][0]\n",
    "        Answers_real.append(A)\n",
    "        Answers_pred.append(generate_answer(q1,q2,c1,c2,Q))\n"
   ]
  },
  {
   "cell_type": "code",
   "execution_count": 15,
   "id": "0e54593c",
   "metadata": {},
   "outputs": [
    {
     "data": {
      "text/plain": [
       "(13, 13)"
      ]
     },
     "execution_count": 15,
     "metadata": {},
     "output_type": "execute_result"
    }
   ],
   "source": [
    "len(Answers_real), len(Answers_pred)"
   ]
  },
  {
   "cell_type": "code",
   "execution_count": 16,
   "id": "b5515a6e",
   "metadata": {},
   "outputs": [],
   "source": [
    "Answers_real=Answers_real+Answers_real_im+Answers_real_im1\n",
    "\n",
    "Answers_pred=Answers_pred+Answers_pred_im+Answers_pred_im1"
   ]
  },
  {
   "cell_type": "code",
   "execution_count": 17,
   "id": "969f449a",
   "metadata": {},
   "outputs": [],
   "source": [
    "# save the pickle file\n",
    "import pickle\n",
    "with open('Answers_pred_nosubq.pkl', 'wb') as f:\n",
    "    pickle.dump(Answers_pred, f)"
   ]
  },
  {
   "cell_type": "code",
   "execution_count": 18,
   "id": "b48845c9-9d15-4309-bd2b-5ebf7eb5615b",
   "metadata": {},
   "outputs": [
    {
     "data": {
      "text/plain": [
       "['Australia.',\n",
       " 'Think and Walking Away were released two years apart.',\n",
       " 'West Virginia',\n",
       " 'They are the same gender.',\n",
       " 'teeth',\n",
       " 'Genetics',\n",
       " 'Pulmonary fibrosis affects the lungs, while Myelofibrosis affects the bone marrow.',\n",
       " 'They are both an example of subfamily, under the larger name of Felidae.',\n",
       " 'The West Rail line and the Mass Transit Railway both use light rails.',\n",
       " 'The Palatine Hill',\n",
       " 'No.',\n",
       " 'No',\n",
       " 'Both nerves are part of limbs.',\n",
       " '\"Hang gliders and parachuters are not both attached to long chords.\"',\n",
       " '\"No, there are not steps at the entrance of both the Hood Museum of Art and Budynek Biblioteki.\"',\n",
       " '\"Yes, the hair part is lined up with the person\\'s nose in both Her Know and Joseph Two Bulls.\"',\n",
       " '\"They share the color white.\"',\n",
       " '\"No, the seats at Baku Olympic Stadium are not the same color as the seats in the stadium at Olympic Park in Munich.\"',\n",
       " '\"Yes, the Academy of Art University and The Hong Kong Academy for Performing Arts are both located on a hill.\"',\n",
       " '\"Yes, the butt of the gun on both the Civil War Memorial in Bethel, Maine and the one on the Civil War Monument of Nuckolls County Courthouse touch the same surface that the soldiers\\' feet are touching.\"',\n",
       " '\"Statues are located on pedestals in both the paintings Imaginary View of Rome with the Horse-Tamer of the Monte Cavallo and a Church and Landscape with Classical Ruins and Figure.\"',\n",
       " '\"No, Erica herbacea and Lamium maculatum do not both have spiky leaves.\"',\n",
       " '\"A cow can be found in both \"Peace and Plenty\" and Claude\\'s landscape.\"',\n",
       " '\"They are both historic buildings with rows of windows on their facade.\"',\n",
       " '\"Joe Smith and Goran Dragic do not shoot with the same hand.\"',\n",
       " '\"No, the colors are not different.\"',\n",
       " '\"The 1952 Kaiser Manhattan and the Lotus XI LeMans both have circular headlights.\"',\n",
       " '\"The female traditional clothing of the Sardinian people includes a skirt.\"',\n",
       " '\"Two light posts are at both ends of Abbey Road crosswalk in London.\"',\n",
       " '\"The petals of the flower of the Camellia Japonica are arranged in a star shape.\"',\n",
       " '\"On the Berlin Tiergarten Denkmal Albrecht Graf von Roon statue, the figure is holding something in its left hand.\"',\n",
       " '\"The predominant color of the Chacoan naked-tailed armadillo is brown.\"',\n",
       " '\"Atop the Lunar Module in the Kennedy Space Center in Cape Canaveral, Florida, is a satellite dish.\"',\n",
       " '\"A polar bear mascot was present at the 2014 Winter Olympics hockey game between the USA and Russia.\"',\n",
       " '\"There are four columns in front of the Cathedral of Blessed Sacrament in New Zealand.\"',\n",
       " '\"When the Prime Minister, Shri Narendra Modi, arrived at Mangalore airport in Karnataka on October 29, 2017 the Indian flag was to the right of the door.\"',\n",
       " '\"The base of the statue in the Darlington Memorial Fountain is an octagon.\"',\n",
       " '\"No, it does not have hair there.\"']"
      ]
     },
     "execution_count": 18,
     "metadata": {},
     "output_type": "execute_result"
    }
   ],
   "source": [
    "Answers_real"
   ]
  },
  {
   "cell_type": "code",
   "execution_count": 20,
   "id": "3570682f-62f7-482c-aab9-a02bae9d5d97",
   "metadata": {},
   "outputs": [
    {
     "data": {
      "text/plain": [
       "[' Australia',\n",
       " ' \"Think\" was released in 1989 and \"Walking Away\" in 1990.',\n",
       " ' The Silver Bridge is located in Huntington, West Virginia, and the East Huntington Bridge is located in Gallipolis, Ohio.',\n",
       " ' The goddess Nut is a goddess of the sky, stars, cosmos, mothers, astronomy, and the universe in the ancient Egyptian religion.',\n",
       " ' The mandibles of both groups are modified to be used for chewing pollen grains.',\n",
       " ' Chromoprotein and Chromatic remodelling belong to the field of chromatin remodelling.',\n",
       " ' Yes.',\n",
       " ' The Pantherinae and Felinae are both subfamilies of felids, the family Felidae.',\n",
       " ' The West Rail line in Denver and the Mass Transit Railway in Hong Kong have the same type of rails.',\n",
       " ' From the Palatine Hill, you can see both the Basilica Julia and the Temple of Romulus.',\n",
       " ' Cangrande was a great warrior, and a great autocrat.',\n",
       " ' No.',\n",
       " ' The saphenous nerve is a branch of the subarticular branch of the saphenous nerve.',\n",
       " ' \"Yes.',\n",
       " ' \"Yes, there are steps at the entrance to the Hood Museum of Art and Budynek Biblioteki.',\n",
       " ' \"No.',\n",
       " ' \"The stalks of the Speise Morchel and the Amanita phalloides share a yellow color.',\n",
       " ' \"No.',\n",
       " ' \"Yes.',\n",
       " ' \"No.',\n",
       " ' \"The horse-tamer of the Monte Cavallo and a church and landscape with classical ruins and figures.',\n",
       " ' \"Yes, both the Erica herbacea and the Lamium maculatum have spiky leaves.',\n",
       " ' \"A horse.',\n",
       " ' \"The Architecture Building in Toronto and the Danish Architecture Center share the same common features.',\n",
       " ' \"No.',\n",
       " ' \"No, the colors of the word lyric are the same in the Lyric Theater, Blacksburg and Lyric Theater, Georgia signs.',\n",
       " ' \"The headlights on both the 1952 Kaiser Manhattan and the Lotus XI LeMans are round.',\n",
       " ' \"No.',\n",
       " ' \"There are two total light posts at both ends of Abbey Road crosswalk in London.',\n",
       " ' \"In a circle.',\n",
       " ' \"In the left hand of the figure holding something.',\n",
       " ' \"Red.',\n",
       " ' \"The Lunar Module is on top of the Lunar Module.',\n",
       " ' \"The USA\"The USA was represented by the mascot, \"The USA.',\n",
       " ' \"There are two columns in front of the Cathedral of Blessed Sacrament in New Zealand.',\n",
       " ' \"On the left side of the airplane\\'s door.',\n",
       " ' \"A circle.',\n",
       " ' \"Yes.']"
      ]
     },
     "execution_count": 20,
     "metadata": {},
     "output_type": "execute_result"
    }
   ],
   "source": [
    "Answers_pred"
   ]
  },
  {
   "cell_type": "code",
   "execution_count": null,
   "id": "df392c8c-80c9-43d3-9ab9-03dc81d1eb8f",
   "metadata": {},
   "outputs": [],
   "source": []
  },
  {
   "cell_type": "code",
   "execution_count": null,
   "id": "90ba245e-35b1-4d5a-b0f5-9a2b08d05200",
   "metadata": {},
   "outputs": [],
   "source": []
  },
  {
   "cell_type": "code",
   "execution_count": 6,
   "id": "58568be7",
   "metadata": {},
   "outputs": [],
   "source": [
    "import pickle\n",
    "import os\n",
    "gold_feature = []\n",
    "imgid_map=pickle.load(open('/home/ubuntu/Project/11-777-Project-aa/Data/image_id_map_0328.pkl', \"rb\"))\n",
    "# image_id = imgid_map[image_id]\n",
    "# image_feature_path =os.path.join(\"/home/ubuntu/Project/11-777-Project-aa/Data/\", \"{}/{}/{}.pkl\".format('dev', (image_id%10000000)//1000, image_id))\n",
    "image_feature_path='/home/ubuntu/Project/11-777-Project-aa/Data/dev/41/40041882.pkl'\n",
    "gold_feature.append(image_feature_path)\n",
    "gold_feature.append(image_feature_path)\n"
   ]
  },
  {
   "cell_type": "code",
   "execution_count": 23,
   "id": "d20c3c02",
   "metadata": {},
   "outputs": [],
   "source": [
    "\n",
    "for inp_text in ['The human history of Western Australia commenced between 40,000 and 60,000 years ago with the arrival of Indigenous Australians on the northwest coast. The first inhabitants expanded across the east and south of the continent. The North Shore is a region of Sydney, New South Wales, Australia, a subset of the Northern Sydney region. The region is customary, not legal or administrative, and generally refers to the suburbs located on the northern side of Sydney Harbour up to Waitara, which are between Middle Harbour and the Lane Cove River. Q: what is the name of the continent contains sydney harbour?\\nA:']:\n",
    "    prompt = [inp_text]\n",
    "    model_outputs = model.generate_for_images_and_texts(prompt, num_words=40)"
   ]
  },
  {
   "cell_type": "code",
   "execution_count": 24,
   "id": "d0678abe",
   "metadata": {},
   "outputs": [
    {
     "data": {
      "text/plain": [
       "[' Australia']"
      ]
     },
     "execution_count": 24,
     "metadata": {},
     "output_type": "execute_result"
    }
   ],
   "source": [
    "model_outputs "
   ]
  },
  {
   "cell_type": "code",
   "execution_count": 16,
   "id": "78290ab8",
   "metadata": {},
   "outputs": [
    {
     "name": "stdout",
     "output_type": "stream",
     "text": [
      "Downloading...\n",
      "From: https://drive.google.com/uc?id=1EqRblzhvchiN3_BGxLYGwtsoV-rHSK63\n",
      "To: /home/ubuntu/Project/Project_final/11-777-Project/fromage/question_answer_bao_chatgpt[1].json\n",
      "100%|██████████████████████████████████████| 9.38k/9.38k [00:00<00:00, 28.3MB/s]\n"
     ]
    }
   ],
   "source": [
    "!gdown 1EqRblzhvchiN3_BGxLYGwtsoV-rHSK63"
   ]
  },
  {
   "cell_type": "code",
   "execution_count": 61,
   "id": "db996b55",
   "metadata": {},
   "outputs": [
    {
     "name": "stdout",
     "output_type": "stream",
     "text": [
      "Q: \"Is the butt of the gun depicted on both the Civil War Memorial in Bethel, Maine ?\"\n",
      "A:\n",
      "Q: \"is the butt of the gun depicted on the one on the one on the Civil War Monument of Nuckolls County Courthouse touching the same surface that the soldiers' feet are touching?\"\n",
      "A:\n",
      "Answer in separate lines\n",
      "https://commons.wikimedia.org/wiki/File:Nuckolls_County_Courthouse_Civil_War_monument.JPG\n",
      "https://commons.wikimedia.org/wiki/File:Civil_War_Memorial_in_Bethel%2C_Maine.jpg\n"
     ]
    }
   ],
   "source": [
    "count=0\n",
    "for i in dataset1:\n",
    "    count+=1\n",
    "    if count==20:\n",
    "        q1=dataset1[i]['Q']\n",
    "        q2=dataset2[i]['Q']\n",
    "        Q=dataset3[i]['Q']\n",
    "        c1=dataset1[i]['img_posFacts'][0]['url']\n",
    "        c2=dataset1[i]['img_posFacts'][1]['url']\n",
    "        prompt1= 'Q: '+  q1+ '\\nA:'\n",
    "        prompt2= 'Q: '+  q2+ '\\nA:'\n",
    "        print(prompt1)\n",
    "        print(prompt2)\n",
    "        print('Answer in separate lines')\n",
    "        print(c1)\n",
    "        print(c2)"
   ]
  },
  {
   "cell_type": "markdown",
   "id": "292082c5",
   "metadata": {},
   "source": [
    "def generate_questions(q1,q2,c1,c2,Q):\n",
    "    prompt1= c1+c2+ 'Q: '+  q1+ '\\nA:'\n",
    "    prompt2= c1+c2+ 'Q: '+  q2+ '\\nA:'\n",
    "    prompt3= 'Q: '+  q1+ ' \\nA: ' +A1[0] + '\\nQ: '+  q2+ ' \\nA: ' +A2[0] + '\\nQ: '+  Q+ ' \\nA:'\n",
    "    return A_final[0]"
   ]
  },
  {
   "cell_type": "code",
   "execution_count": 58,
   "id": "0b92347f",
   "metadata": {},
   "outputs": [],
   "source": [
    "a11_1='Yes, the Academy of Art University is located on a hill.'\n",
    "a11_2='Yes, the Hong Kong Academy for Performing Arts is located on a hill.'"
   ]
  },
  {
   "cell_type": "code",
   "execution_count": 59,
   "id": "9eb1ea37",
   "metadata": {},
   "outputs": [],
   "source": [
    "prompt3= 'Q: '+  q1+ ' \\nA: ' +a11_1 + '\\nQ: '+  q2+ ' \\nA: ' +a11_2 + '\\nQ: '+  Q+ ' \\nA:'"
   ]
  },
  {
   "cell_type": "code",
   "execution_count": 60,
   "id": "d5e0fee5",
   "metadata": {},
   "outputs": [
    {
     "data": {
      "text/plain": [
       "'Q: \"Is the Academy of Art University located on a hill?\" \\nA: Yes, the Academy of Art University is located on a hill.\\nQ: \"Is The Hong Kong Academy for Performing Arts both located on a hill?\" \\nA: Yes, the Hong Kong Academy for Performing Arts is located on a hill.\\nQ: \"Is the Academy of Art University and The Hong Kong Academy for Performing Arts both located on a hill?\" \\nA:'"
      ]
     },
     "execution_count": 60,
     "metadata": {},
     "output_type": "execute_result"
    }
   ],
   "source": [
    "prompt3"
   ]
  },
  {
   "cell_type": "code",
   "execution_count": 13,
   "id": "696bfc28",
   "metadata": {},
   "outputs": [],
   "source": [
    "a_p=['  Australia',\n",
    " '  \"Think\" was released in 1989 and \"Walking Away\" was released in 1990.',\n",
    " '  West Virginia.',\n",
    " '  The goddess Nut is a goddess of the sky, stars, cosmos, mothers, astronomy, and the universe in the ancient Egyptian religion.',\n",
    " '  The mandible is the mouth part of the insect.',\n",
    " '  Chromatin remodelling is a field of science that deals with the dynamic modification of chromatin architecture to allow access of condensed genomic DNA to the regulatory transcription machinery proteins, and thereby control gene expression.',\n",
    " '  Yes, pulmonary fibrosis and Myelofibrosis affect the lungs, heart, liver, kidneys, and pancreas.',\n",
    " '  The Pantherinae and the Felinae are a subfamily of the Pantherinae, a family of large carnivores.',\n",
    " '  the West Rail line in Denver and the Mass Transit Railway in Hong Kong have a steel track.',\n",
    " '  from the Palatine Hill, the hill that is to the left of the Temple of Romulus.',\n",
    " '  Yes.',\n",
    " '  No.',\n",
    " '  The superior lateral brachial cutaneous nerve belongs to the subcutaneous branch of the saphenous nerve.']\n",
    "answers_pred_univlr=a_p+AA_P\n"
   ]
  },
  {
   "cell_type": "code",
   "execution_count": 9,
   "id": "70222a78",
   "metadata": {},
   "outputs": [],
   "source": [
    "a_r_t=['Australia.',\n",
    " 'Think and Walking Away were released two years apart.',\n",
    " 'West Virginia',\n",
    " 'They are the same gender.',\n",
    " 'teeth',\n",
    " 'Genetics',\n",
    " 'Pulmonary fibrosis affects the lungs, while Myelofibrosis affects the bone marrow.',\n",
    " 'They are both an example of subfamily, under the larger name of Felidae.',\n",
    " 'The West Rail line and the Mass Transit Railway both use light rails.',\n",
    " 'The Palatine Hill',\n",
    " 'No.',\n",
    " 'No',\n",
    " 'Both nerves are part of limbs.']\n",
    "Answers_real_univlr=AA_R+a_r_t"
   ]
  },
  {
   "cell_type": "code",
   "execution_count": null,
   "id": "17603ea6",
   "metadata": {},
   "outputs": [],
   "source": [
    "A8/25"
   ]
  },
  {
   "cell_type": "code",
   "execution_count": 15,
   "id": "ab6a5269",
   "metadata": {},
   "outputs": [
    {
     "data": {
      "text/plain": [
       "['\"The female traditional clothing of the Sardinian people includes a skirt.\"',\n",
       " '\"Two light posts are at both ends of Abbey Road crosswalk in London.\"',\n",
       " '\"The petals of the flower of the Camellia Japonica are arranged in a star shape.\"',\n",
       " '\"On the Berlin Tiergarten Denkmal Albrecht Graf von Roon statue, the figure is holding something in its left hand.\"',\n",
       " '\"The predominant color of the Chacoan naked-tailed armadillo is brown.\"',\n",
       " '\"Atop the Lunar Module in the Kennedy Space Center in Cape Canaveral, Florida, is a satellite dish.\"',\n",
       " '\"A polar bear mascot was present at the 2014 Winter Olympics hockey game between the USA and Russia.\"',\n",
       " '\"There are four columns in front of the Cathedral of Blessed Sacrament in New Zealand.\"',\n",
       " '\"When the Prime Minister, Shri Narendra Modi, arrived at Mangalore airport in Karnataka on October 29, 2017 the Indian flag was to the right of the door.\"',\n",
       " '\"The base of the statue in the Darlington Memorial Fountain is an octagon.\"',\n",
       " '\"No, it does not have hair there.\"',\n",
       " '\"Hang gliders and parachuters are not both attached to long chords.\"',\n",
       " '\"No, there are not steps at the entrance of both the Hood Museum of Art and Budynek Biblioteki.\"',\n",
       " '\"Yes, the hair part is lined up with the person\\'s nose in both Her Know and Joseph Two Bulls.\"',\n",
       " '\"They share the color white.\"',\n",
       " '\"No, the seats at Baku Olympic Stadium are not the same color as the seats in the stadium at Olympic Park in Munich.\"',\n",
       " '\"Yes, the Academy of Art University and The Hong Kong Academy for Performing Arts are both located on a hill.\"',\n",
       " '\"Yes, the butt of the gun on both the Civil War Memorial in Bethel, Maine and the one on the Civil War Monument of Nuckolls County Courthouse touch the same surface that the soldiers\\' feet are touching.\"',\n",
       " '\"Statues are located on pedestals in both the paintings Imaginary View of Rome with the Horse-Tamer of the Monte Cavallo and a Church and Landscape with Classical Ruins and Figure.\"',\n",
       " '\"No, Erica herbacea and Lamium maculatum do not both have spiky leaves.\"',\n",
       " '\"A cow can be found in both \"Peace and Plenty\" and Claude\\'s landscape.\"',\n",
       " '\"They are both historic buildings with rows of windows on their facade.\"',\n",
       " '\"Joe Smith and Goran Dragic do not shoot with the same hand.\"',\n",
       " '\"No, the colors are not different.\"',\n",
       " '\"The 1952 Kaiser Manhattan and the Lotus XI LeMans both have circular headlights.\"',\n",
       " 'Australia.',\n",
       " 'Think and Walking Away were released two years apart.',\n",
       " 'West Virginia',\n",
       " 'They are the same gender.',\n",
       " 'teeth',\n",
       " 'Genetics',\n",
       " 'Pulmonary fibrosis affects the lungs, while Myelofibrosis affects the bone marrow.',\n",
       " 'They are both an example of subfamily, under the larger name of Felidae.',\n",
       " 'The West Rail line and the Mass Transit Railway both use light rails.',\n",
       " 'The Palatine Hill',\n",
       " 'No.',\n",
       " 'No',\n",
       " 'Both nerves are part of limbs.']"
      ]
     },
     "execution_count": 15,
     "metadata": {},
     "output_type": "execute_result"
    }
   ],
   "source": [
    "Answers_real_univlr"
   ]
  },
  {
   "cell_type": "code",
   "execution_count": 16,
   "id": "6977cee1",
   "metadata": {},
   "outputs": [],
   "source": [
    "answers_pred_univlr \n",
    "# save as a pkl file\n",
    "import pickle\n",
    "with open('Answers_real_univlr.pkl', 'wb') as f:\n",
    "    pickle.dump(Answers_real_univlr, f)"
   ]
  },
  {
   "cell_type": "code",
   "execution_count": null,
   "id": "4223472f",
   "metadata": {},
   "outputs": [],
   "source": []
  }
 ],
 "metadata": {
  "kernelspec": {
   "display_name": "Python 3 (ipykernel)",
   "language": "python",
   "name": "python3"
  },
  "language_info": {
   "codemirror_mode": {
    "name": "ipython",
    "version": 3
   },
   "file_extension": ".py",
   "mimetype": "text/x-python",
   "name": "python",
   "nbconvert_exporter": "python",
   "pygments_lexer": "ipython3",
   "version": "3.8.13"
  }
 },
 "nbformat": 4,
 "nbformat_minor": 5
}
