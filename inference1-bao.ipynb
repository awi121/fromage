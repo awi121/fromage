{
 "cells": [
  {
   "cell_type": "markdown",
   "id": "820d3a68-10cf-4efc-af6c-077313a11f42",
   "metadata": {},
   "source": [
    "# "
   ]
  },
  {
   "cell_type": "code",
   "execution_count": 1,
   "id": "475add8f",
   "metadata": {},
   "outputs": [],
   "source": [
    "import numpy as np\n",
    "import copy\n",
    "import torch\n",
    "from transformers import logging\n",
    "logging.set_verbosity_error()\n",
    "\n",
    "from PIL import Image\n",
    "import matplotlib.pyplot as plt\n",
    "\n",
    "from fromage import models\n",
    "from fromage import utils"
   ]
  },
  {
   "cell_type": "code",
   "execution_count": 2,
   "id": "4646a124",
   "metadata": {
    "scrolled": true
   },
   "outputs": [
    {
     "name": "stdout",
     "output_type": "stream",
     "text": [
      "Using HuggingFace AutoFeatureExtractor for openai/clip-vit-large-patch14.\n",
      "Using facebook/opt-1.3b for the language model.\n",
      "Using openai/clip-vit-large-patch14 for the visual model with 4 visual tokens.\n"
     ]
    },
    {
     "name": "stderr",
     "output_type": "stream",
     "text": [
      "/home/ubuntu/anaconda3/envs/lavis/lib/python3.8/site-packages/transformers/models/clip/feature_extraction_clip.py:28: FutureWarning: The class CLIPFeatureExtractor is deprecated and will be removed in version 5 of Transformers. Please use CLIPImageProcessor instead.\n",
      "  warnings.warn(\n"
     ]
    },
    {
     "name": "stdout",
     "output_type": "stream",
     "text": [
      "Freezing the LM.\n"
     ]
    },
    {
     "name": "stderr",
     "output_type": "stream",
     "text": [
      "/home/ubuntu/anaconda3/envs/lavis/lib/python3.8/site-packages/torch/nn/modules/lazy.py:180: UserWarning: Lazy modules are a new feature under heavy development so changes to the API or functionality can happen at any moment.\n",
      "  warnings.warn('Lazy modules are a new feature under heavy development '\n"
     ]
    }
   ],
   "source": [
    "# Load model used in the paper.\n",
    "model_dir = '/home/ubuntu/Project/Project_final/11-777-Project/fromage/runs/frozen_15'\n",
    "model = models.load_fromage(model_dir,type1='ss')"
   ]
  },
  {
   "cell_type": "code",
   "execution_count": 117,
   "id": "d9e6df04-8820-4a05-9bc6-3d131d038698",
   "metadata": {},
   "outputs": [],
   "source": [
    "import json\n",
    "dataset_test=json.load(open(\"/home/ubuntu/Project/11-777-Project-aa/Data/Experiments/Config 2/retrieval_4.json\",\"r\"))"
   ]
  },
  {
   "cell_type": "code",
   "execution_count": 118,
   "id": "b07a7608-8321-40e6-a75e-df5261008bc8",
   "metadata": {},
   "outputs": [],
   "source": [
    "import pickle\n",
    "\n",
    "# Specify the path to your pickle file\n",
    "pickle_file_path = '/home/ubuntu/Project/11-777-Project-aa/Data/Experiments/Config 2/img_embedding.pkl'\n",
    "\n",
    "# Load the data from the pickle file\n",
    "with open(pickle_file_path, 'rb') as file:\n",
    "    loaded_data = pickle.load(file)\n",
    "\n",
    "# Now, 'loaded_data' contains the data stored in the pickle file\n"
   ]
  },
  {
   "cell_type": "code",
   "execution_count": 119,
   "id": "7b820479-8ca3-409b-92a6-aca4dde6d3d1",
   "metadata": {},
   "outputs": [],
   "source": [
    "import pickle\n",
    "count=0\n",
    "for i1,j1 in zip(loaded_data[0],loaded_data[1]):\n",
    "    pickle_file_path = f'/home/ubuntu/Project/11-777-Project-aa/Data/uni_test/{i1}.pkl'\n",
    "    with open(pickle_file_path, 'wb') as file:\n",
    "        pickle.dump(j1.reshape(1,-1), file)"
   ]
  },
  {
   "cell_type": "code",
   "execution_count": 120,
   "id": "c67b4575-2e5b-4abf-8837-aede631582cb",
   "metadata": {},
   "outputs": [],
   "source": [
    "import json\n",
    "\n",
    "def load_file(path, limit=50):\n",
    "    result = {}\n",
    "    with open(path, 'r') as file:\n",
    "        for index, line in enumerate(file):\n",
    "            if index >= limit:\n",
    "                break  # Stop reading after the specified limit\n",
    "            dico = json.loads(line)\n",
    "            result[dico[\"qid\"]] = dico\n",
    "    return result\n",
    "\n",
    "path_test = \"/home/ubuntu/Project/11-777-Project-aa/Data/Experiments/test.json\"\n",
    "test_data = load_file(path_test, limit=50)\n"
   ]
  },
  {
   "cell_type": "code",
   "execution_count": 121,
   "id": "c413f480",
   "metadata": {},
   "outputs": [],
   "source": [
    "import pickle\n",
    "import os\n",
    "def generate_answer_img(Q,c1,c2):\n",
    "    if c2==None:\n",
    "        gold_feature = []\n",
    "        image_feature_path1='/home/ubuntu/Project/11-777-Project-aa/Data/uni_test/'+str(c1)+'.pkl'\n",
    "        image_feature_path2='/home/ubuntu/Project/11-777-Project-aa/Data/uni_test/'+str(c1)+'.pkl'\n",
    "        gold_feature.append(image_feature_path1)\n",
    "        gold_feature.append(image_feature_path2)\n",
    "        c=[gold_feature]\n",
    "        prompt1= 'Q: '+  Q+ '\\nA:'\n",
    "        A1=model.generate_for_images_and_texts([c,prompt1], num_words=40)\n",
    "        # prompt2= 'Q: '+  q2+ '\\nA:'\n",
    "        # A2=model.generate_for_images_and_texts([c,prompt2], num_words=40)\n",
    "        # prompt3= 'Q: '+  q1+ ' \\nA: ' +A1[0] + '\\nQ: '+  q2+ ' \\nA: ' +A2[0] + '\\nQ: '+  Q+ ' \\nA:'\n",
    "        # A_final=model.generate_for_images_and_texts([prompt3], num_words=40)\n",
    "        # A_final=A1\n",
    "    else:\n",
    "        gold_feature = []\n",
    "        image_feature_path1='/home/ubuntu/Project/11-777-Project-aa/Data/uni_test/'+str(c1)+'.pkl'\n",
    "        image_feature_path2='/home/ubuntu/Project/11-777-Project-aa/Data/uni_test/'+str(c2)+'.pkl'\n",
    "        gold_feature.append(image_feature_path1)\n",
    "        gold_feature.append(image_feature_path2)\n",
    "        c=[gold_feature]\n",
    "        # prompt1= 'Q: '+  q1+ '\\nA:'\n",
    "        # A1=model.generate_for_images_and_texts([c,prompt1], num_words=40)\n",
    "        # prompt2= 'Q: '+  q2+ '\\nA:'\n",
    "        # A2=model.generate_for_images_and_texts([c,prompt2], num_words=40)\n",
    "        # prompt3= 'Q: '+  q1+ ' \\nA: ' +A1[0] + '\\nQ: '+  q2+ ' \\nA: ' +A2[0] + '\\nQ: '+  Q+ ' \\nA:'\n",
    "        # A_final=model.generate_for_images_and_texts([prompt3], num_words=40)\n",
    "        prompt1= 'Q: '+  Q+ '\\nA:'\n",
    "        A1=model.generate_for_images_and_texts([c,prompt1], num_words=40)\n",
    "    return A1[0]"
   ]
  },
  {
   "cell_type": "code",
   "execution_count": 110,
   "id": "719b33d9-8553-4db1-a7c6-0c763ab567ce",
   "metadata": {},
   "outputs": [
    {
     "name": "stdout",
     "output_type": "stream",
     "text": [
      "['30079629']\n"
     ]
    }
   ],
   "source": [
    "for i in dataset_test:\n",
    "    print(dataset_test[i]['pos'])\n",
    "    break\n",
    "    "
   ]
  },
  {
   "cell_type": "code",
   "execution_count": 122,
   "id": "47e05191",
   "metadata": {},
   "outputs": [],
   "source": [
    "Answers_real_im1 = []\n",
    "Answers_pred_im1 = []\n",
    "for i in test_data:\n",
    "    data = test_data[i]\n",
    "    Q=data['Q']\n",
    "    A=data['A']\n",
    "    if(len(dataset_test[i]['pos']))==1:\n",
    "        c1=dataset_test[i]['pos'][0]\n",
    "        if(c1[0]=='d'):\n",
    "            continue\n",
    "        # print(c1)\n",
    "        c2=None\n",
    "        Answers_real_im1.append(A)\n",
    "        Answers_pred_im1.append(generate_answer_img(Q,c1,c2))"
   ]
  },
  {
   "cell_type": "code",
   "execution_count": 123,
   "id": "4e0d661b",
   "metadata": {},
   "outputs": [],
   "source": [
    "Answers_real_im = []\n",
    "Answers_pred_im = []\n",
    "for i in test_data:\n",
    "    data = test_data[i]\n",
    "    Q=data['Q']\n",
    "    A=data['A']\n",
    "    if(len(dataset_test[i]['pos']))>1:\n",
    "        c1=dataset_test[i]['pos'][0]\n",
    "        c2=dataset_test[i]['pos'][1]\n",
    "        Answers_real_im.append(A)\n",
    "        Answers_pred_im.append(generate_answer_img(Q,c1,c2))"
   ]
  },
  {
   "cell_type": "code",
   "execution_count": 124,
   "id": "540a96c7",
   "metadata": {},
   "outputs": [
    {
     "data": {
      "text/plain": [
       "(33, 33)"
      ]
     },
     "execution_count": 124,
     "metadata": {},
     "output_type": "execute_result"
    }
   ],
   "source": [
    "len(Answers_real_im1), len(Answers_pred_im1)"
   ]
  },
  {
   "cell_type": "code",
   "execution_count": 125,
   "id": "8536b1df-3ac5-4e53-b216-02692a2cc003",
   "metadata": {},
   "outputs": [],
   "source": [
    "Answers_real=Answers_real_im1+Answers_real_im\n",
    "Answers_pred=Answers_pred_im1+Answers_pred_im"
   ]
  },
  {
   "cell_type": "code",
   "execution_count": 126,
   "id": "6977cee1",
   "metadata": {},
   "outputs": [],
   "source": [
    "# save as a pkl file\n",
    "import pickle\n",
    "with open('Answers_real_manh_2.pkl', 'wb') as f:\n",
    "    pickle.dump(Answers_real, f)"
   ]
  },
  {
   "cell_type": "code",
   "execution_count": 127,
   "id": "4223472f",
   "metadata": {},
   "outputs": [],
   "source": [
    "import pickle\n",
    "with open('Answers_pred_manh_2.pkl', 'wb') as f:\n",
    "    pickle.dump(Answers_pred, f)"
   ]
  },
  {
   "cell_type": "code",
   "execution_count": 136,
   "id": "44fa0018-9890-457a-82b0-b072e5304f63",
   "metadata": {},
   "outputs": [],
   "source": [
    "import pickle\n",
    "with open('/home/ubuntu/Project/Project_final/11-777-Project/fromage/Answers_pred_manh_3.pkl', 'rb') as f:\n",
    "    answers_pred_1 = pickle.load(f)\n",
    "import pickle\n",
    "with open('/home/ubuntu/Project/Project_final/11-777-Project/fromage/Answers_real_manh_3.pkl', 'rb') as f:\n",
    "    answers_real_1 = pickle.load(f)"
   ]
  },
  {
   "cell_type": "code",
   "execution_count": 137,
   "id": "c3f5c24b-3664-43ed-9ebb-88cc57811a12",
   "metadata": {},
   "outputs": [
    {
     "name": "stdout",
     "output_type": "stream",
     "text": [
      "real answer +++++++++++++++++++++++++++++++++\n",
      "No, a Minnetonka Rhododendron flower does not have petals in a cup shape.\n",
      "pred answer +++++++++++++++++++++++++++++++++\n",
      " Yes, a Minnetonka Rhododendron flower has petals in a cup shape.\n",
      "real answer +++++++++++++++++++++++++++++++++\n",
      "A fountain is sitting in front of the Torre del Reloj.\n",
      "pred answer +++++++++++++++++++++++++++++++++\n",
      " A water-related object.\n",
      "real answer +++++++++++++++++++++++++++++++++\n",
      "Blue footprints are painted down the center of Salou Boulevard.\n",
      "pred answer +++++++++++++++++++++++++++++++++\n",
      " The shapes are painted down the center of Salou Boulevard.\n",
      "real answer +++++++++++++++++++++++++++++++++\n",
      "Yes, there are sidewalks on both sides of the Mid-Hudson Bridge.\n",
      "pred answer +++++++++++++++++++++++++++++++++\n",
      " Yes, there are sidewalks on both sides of the Mid-Hudson Bridge.\n",
      "real answer +++++++++++++++++++++++++++++++++\n",
      "There were red flowers outside the hotel.\n",
      "pred answer +++++++++++++++++++++++++++++++++\n",
      " Yellow\n",
      "real answer +++++++++++++++++++++++++++++++++\n",
      "The fence in font of the building is taller than a typical bicycle.\n",
      "pred answer +++++++++++++++++++++++++++++++++\n",
      " The fence in front of The Glass House in Fulham is taller than a bicycle.\n",
      "real answer +++++++++++++++++++++++++++++++++\n",
      "The heads of Iranian women are covered when they're in traditional clothing.\n",
      "pred answer +++++++++++++++++++++++++++++++++\n",
      " No, they are not.\n",
      "real answer +++++++++++++++++++++++++++++++++\n",
      "The tent for the Ballard Chamber of Commerce Salmon Barbecue at Ballard Fest in 2006 was blue and white.\n",
      "pred answer +++++++++++++++++++++++++++++++++\n",
      " The tent was a salmon color.\n",
      "real answer +++++++++++++++++++++++++++++++++\n",
      "The clock on the front of the Fenchurch Street station is on the top and middle of the building.\n",
      "pred answer +++++++++++++++++++++++++++++++++\n",
      " The clock is on the top of the clock tower.\n",
      "real answer +++++++++++++++++++++++++++++++++\n",
      "The Western Cottage pump organ has more round visible stop knobs installed compared to the Wurlitzer Model 44 Electrostatic Reed Organ.\n",
      "pred answer +++++++++++++++++++++++++++++++++\n",
      " The Wurlitzer Model 44 Electrostatic Reed Organ is the more round visible stop knob.\n",
      "real answer +++++++++++++++++++++++++++++++++\n",
      "The maximum number of buttons that you can get on the Egyptian men's uniform at the 1928 Amsterdam Olympics is three.\n",
      "pred answer +++++++++++++++++++++++++++++++++\n",
      " The maximum number of buttons is three.\n",
      "real answer +++++++++++++++++++++++++++++++++\n",
      "More than one room in Graceland has light fixtures that hang from the ceiling.\n",
      "pred answer +++++++++++++++++++++++++++++++++\n",
      " Yes.\n",
      "real answer +++++++++++++++++++++++++++++++++\n",
      "The Osman Shah Mosque does not have fewer than three support pillars.\n",
      "pred answer +++++++++++++++++++++++++++++++++\n",
      " No.\n",
      "real answer +++++++++++++++++++++++++++++++++\n",
      "Joe Mays of the Broncos have two arms tattooed.\n",
      "pred answer +++++++++++++++++++++++++++++++++\n",
      " Joe Mays has one arm tattooed.\n",
      "real answer +++++++++++++++++++++++++++++++++\n",
      "No, the colors are not different.\n",
      "pred answer +++++++++++++++++++++++++++++++++\n",
      " Yes, the colors of the word lyric are different in the Lyric Theater, Blacksburg and Lyric Theater, Georgia signs.\n",
      "real answer +++++++++++++++++++++++++++++++++\n",
      "Horn speakers are used for public announcements.\n",
      "pred answer +++++++++++++++++++++++++++++++++\n",
      " The speakers are used for announcements on the beach.\n",
      "real answer +++++++++++++++++++++++++++++++++\n",
      "There are trees near both the EPCOT Wonders of Life and the Entrance to Children's Fairyland.\n",
      "pred answer +++++++++++++++++++++++++++++++++\n",
      " The EPCOT Wonders of Life and the Entrance to Children's Fairyland are both located in the same area.\n",
      "real answer +++++++++++++++++++++++++++++++++\n",
      "The facade of the bakery Sattin et Fils in Rethel, France, is colored red.\n",
      "pred answer +++++++++++++++++++++++++++++++++\n",
      " The facade of bakery Sattin et Fils in Rethel, France is a light blue color.\n",
      "real answer +++++++++++++++++++++++++++++++++\n",
      "The Stachys byzantia grows upwards.\n",
      "pred answer +++++++++++++++++++++++++++++++++\n",
      " It grows upwards.\n",
      "real answer +++++++++++++++++++++++++++++++++\n",
      "A small star appears over the head of the angel on the German postcard of the Guardian Angel from 1900.\n",
      "pred answer +++++++++++++++++++++++++++++++++\n",
      " A sword\n",
      "real answer +++++++++++++++++++++++++++++++++\n",
      "There are only two participants wearing winter hats.\n",
      "pred answer +++++++++++++++++++++++++++++++++\n",
      " 0\n",
      "real answer +++++++++++++++++++++++++++++++++\n",
      "The Gaustadt pipe organ is adorned with more Christmas-like colors than the pipe organ in St. John's Church in Grund, Luxembourg City.\n",
      "pred answer +++++++++++++++++++++++++++++++++\n",
      " The pipe organ in St John's Church in Grund, Luxembourg City is adorned with more Christmas like colors.\n",
      "real answer +++++++++++++++++++++++++++++++++\n",
      "The Spain Pavilion at Expo 2010's exterior resembles scales.\n",
      "pred answer +++++++++++++++++++++++++++++++++\n",
      " A Spanish flag.\n",
      "real answer +++++++++++++++++++++++++++++++++\n",
      "Four people's mouths are covered in Chelsea Street Art in Manhattan, New York City.\n",
      "pred answer +++++++++++++++++++++++++++++++++\n",
      " 0I'm not sure if this is a joke or not, but I'm pretty sure that's a real thing.\n",
      "real answer +++++++++++++++++++++++++++++++++\n",
      "The word on the lollipops is written in cursive.\n",
      "pred answer +++++++++++++++++++++++++++++++++\n",
      " The word on the lollipops at Market St Joseph La Boqueria in Barcelona is written in print.\n",
      "real answer +++++++++++++++++++++++++++++++++\n",
      "The Durham Cathedral in England has trees outside of it.\n",
      "pred answer +++++++++++++++++++++++++++++++++\n",
      " Yes, there are trees outside the cathedral.\n",
      "real answer +++++++++++++++++++++++++++++++++\n",
      "The Gulbransen Organ has lighter pedals.\n",
      "pred answer +++++++++++++++++++++++++++++++++\n",
      " The AeolianHammond Player Organ model BA is lighter than the Gulbransen Organ model.\n",
      "real answer +++++++++++++++++++++++++++++++++\n",
      "Geely Yuanjing X6 is taller than the 2018 Maserati Birdcage.\n",
      "pred answer +++++++++++++++++++++++++++++++++\n",
      " The 2014 Geely Yuanjing X6 is taller than the 2018 Maserati Birdcage.\n",
      "real answer +++++++++++++++++++++++++++++++++\n",
      "The Christ the King Chapel tower and the Saint Michael Catholic Church tower both have crosses mounted to the top points of their structures.\n",
      "pred answer +++++++++++++++++++++++++++++++++\n",
      " A cross\n",
      "real answer +++++++++++++++++++++++++++++++++\n",
      "The Coffee Club on Orchard Road in Singapore has a tiered orange ceiling.\n",
      "pred answer +++++++++++++++++++++++++++++++++\n",
      " The restaurant is called The Orange Room.\n",
      "real answer +++++++++++++++++++++++++++++++++\n",
      "There was a building constructed after 2007 that can now be seen in the distance behind the Empire State Building that mimics its shape.\n",
      "pred answer +++++++++++++++++++++++++++++++++\n",
      " Yes, the Empire State Building.\n",
      "real answer +++++++++++++++++++++++++++++++++\n",
      "Yes, both of these Pavilions have curved roofs.\n",
      "pred answer +++++++++++++++++++++++++++++++++\n",
      " Yes, both Expo Milano 2015, Pavilion of China and Spain Pavilion of Shanghai Expo have curved roofs.\n",
      "real answer +++++++++++++++++++++++++++++++++\n",
      "The wings of the Bohemian Waxwing do not project beyond the tip of the tail.\n",
      "pred answer +++++++++++++++++++++++++++++++++\n",
      " Yes, the wings of the Bohemian Waxwing project beyond the tip of the tail.\n",
      "real answer +++++++++++++++++++++++++++++++++\n",
      "Casio's watch brand has an ad on the Sanai building.\n",
      "pred answer +++++++++++++++++++++++++++++++++\n",
      " Rolex\n",
      "real answer +++++++++++++++++++++++++++++++++\n",
      "Eleven arches are on the facade of the Cabildo in Buenos Aires, Argentina.\n",
      "pred answer +++++++++++++++++++++++++++++++++\n",
      " 1The present invention relates to a method for the production of a polyurethane foam, in particular a polyurethane foam having a high density.\n",
      "real answer +++++++++++++++++++++++++++++++++\n",
      "The belly amphora has more people displayed on it than the Part of a breakfast Service at the at the De Young Museum in San Francisco, which doesn't display any people.\n",
      "pred answer +++++++++++++++++++++++++++++++++\n",
      " The belly amphora with young people talking Exhibit in the Martin von Wagner Museum\n",
      "real answer +++++++++++++++++++++++++++++++++\n",
      "The person on the Nick Walker Love Vandal is drawing the top half of a heart.\n",
      "pred answer +++++++++++++++++++++++++++++++++\n",
      " A heart\n",
      "real answer +++++++++++++++++++++++++++++++++\n",
      "Yes, the horse depicted in the Riva Dei Schiavoni Statue has more feet raised off the ground than the horse in the Gordon statue.\n",
      "pred answer +++++++++++++++++++++++++++++++++\n",
      " No.\n",
      "real answer +++++++++++++++++++++++++++++++++\n",
      "Columns can be found in the front of both the Institut France and the Poplar Forest.\n",
      "pred answer +++++++++++++++++++++++++++++++++\n",
      " The Institut France is located in the front of the Institut France.\n",
      "real answer +++++++++++++++++++++++++++++++++\n",
      "A plastic trashcan is inside the decorative fencing on the sidewalk outside of O.K. Theatre in Enterprise.\n",
      "pred answer +++++++++++++++++++++++++++++++++\n",
      " A trashcan is not inside the decorative fencing on the sidewalk outside of O.\n",
      "real answer +++++++++++++++++++++++++++++++++\n",
      "The light poles in front of the main entrance to the FedEx Institute of Technology in Memphis are white.\n",
      "pred answer +++++++++++++++++++++++++++++++++\n",
      " The light poles are white.\n",
      "real answer +++++++++++++++++++++++++++++++++\n",
      "No, the same jumbotron was not in place at Madison Square Garden on October 27, 2011 and January 23, 2014\n",
      "pred answer +++++++++++++++++++++++++++++++++\n",
      " Yes.\n",
      "real answer +++++++++++++++++++++++++++++++++\n",
      "The colors black and white are found on the sign for both Brivo Pizza Pasta & Grill and the 22 Elgin Street Tree furniture shop.\n",
      "pred answer +++++++++++++++++++++++++++++++++\n",
      " The sign for Brivo Pizza Pasta & Grill is red and the sign for the 22 Elgin Street Tree furniture shop is green.\n",
      "real answer +++++++++++++++++++++++++++++++++\n",
      "The Alcuin statue in the Kunsthistorisches Museum is holding a book and a scroll in its left hand.\n",
      "pred answer +++++++++++++++++++++++++++++++++\n",
      " A Kunsthistorisches Museum Kunsthistorisches Museum\n",
      "real answer +++++++++++++++++++++++++++++++++\n",
      "You can see more skyscrapers while sitting in the stands of Busan Sajik Baseball Stadium than in Sydney football stadium.\n",
      "pred answer +++++++++++++++++++++++++++++++++\n",
      " The Sydney stadium is bigger and has more seats.\n",
      "real answer +++++++++++++++++++++++++++++++++\n",
      "One bull is depicted in the statue at Ringling Museum entrance.\n",
      "pred answer +++++++++++++++++++++++++++++++++\n",
      " There are two bulls in the statue.\n",
      "real answer +++++++++++++++++++++++++++++++++\n",
      "No, Drew Barrymore's star on the Hollywood Walk of Fame does not have more gold on it.\n",
      "pred answer +++++++++++++++++++++++++++++++++\n",
      " No.\n",
      "real answer +++++++++++++++++++++++++++++++++\n",
      "On the Basilique du Sacré-Cœur de Montmartre, one rose window is located under each of the smaller domes.\n",
      "pred answer +++++++++++++++++++++++++++++++++\n",
      " The rose windows are on the side of the church.\n",
      "real answer +++++++++++++++++++++++++++++++++\n",
      "No, the two buildings are in differing colors.\n",
      "pred answer +++++++++++++++++++++++++++++++++\n",
      " No.\n"
     ]
    }
   ],
   "source": [
    "for i,j in zip(answers_real_1,answers_pred_1):\n",
    "    print('real answer +++++++++++++++++++++++++++++++++')\n",
    "    print(i[0][1:-1])\n",
    "    print('pred answer +++++++++++++++++++++++++++++++++')\n",
    "    print(j)"
   ]
  },
  {
   "cell_type": "code",
   "execution_count": null,
   "id": "323d55bc-9c49-4135-b118-9fa890601042",
   "metadata": {},
   "outputs": [],
   "source": []
  }
 ],
 "metadata": {
  "kernelspec": {
   "display_name": "Python 3 (ipykernel)",
   "language": "python",
   "name": "python3"
  },
  "language_info": {
   "codemirror_mode": {
    "name": "ipython",
    "version": 3
   },
   "file_extension": ".py",
   "mimetype": "text/x-python",
   "name": "python",
   "nbconvert_exporter": "python",
   "pygments_lexer": "ipython3",
   "version": "3.8.13"
  }
 },
 "nbformat": 4,
 "nbformat_minor": 5
}
